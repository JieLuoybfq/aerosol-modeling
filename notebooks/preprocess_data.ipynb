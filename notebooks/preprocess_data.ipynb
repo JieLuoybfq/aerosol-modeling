{
 "cells": [
  {
   "cell_type": "markdown",
   "metadata": {},
   "source": [
    "### Load & preprocess data playground"
   ]
  },
  {
   "cell_type": "code",
   "execution_count": 378,
   "metadata": {},
   "outputs": [],
   "source": [
    "import os\n",
    "import yaml\n",
    "import xarray as xr\n",
    "import matplotlib.pyplot as plt\n",
    "from subprocess import call"
   ]
  },
  {
   "cell_type": "code",
   "execution_count": 349,
   "metadata": {},
   "outputs": [],
   "source": [
    "ROOT_DIR = os.getcwd() + '/..'\n",
    "try:\n",
    "    with open (ROOT_DIR + '/configuration.yml', 'r') as file:\n",
    "        config = yaml.safe_load(file)\n",
    "except Exception as e:\n",
    "    print('Error reading the config file')"
   ]
  },
  {
   "cell_type": "code",
   "execution_count": 350,
   "metadata": {},
   "outputs": [],
   "source": [
    "raw_cams_dir = ROOT_DIR + '/' + config['raw']['cams']\n",
    "cities_info = ROOT_DIR + '/' + config['cities']"
   ]
  },
  {
   "cell_type": "code",
   "execution_count": 352,
   "metadata": {},
   "outputs": [
    {
     "data": {
      "text/html": [
       "<div>\n",
       "<style scoped>\n",
       "    .dataframe tbody tr th:only-of-type {\n",
       "        vertical-align: middle;\n",
       "    }\n",
       "\n",
       "    .dataframe tbody tr th {\n",
       "        vertical-align: top;\n",
       "    }\n",
       "\n",
       "    .dataframe thead th {\n",
       "        text-align: right;\n",
       "    }\n",
       "</style>\n",
       "<table border=\"1\" class=\"dataframe\">\n",
       "  <thead>\n",
       "    <tr style=\"text-align: right;\">\n",
       "      <th></th>\n",
       "      <th>city</th>\n",
       "      <th>latitude</th>\n",
       "      <th>longitude</th>\n",
       "    </tr>\n",
       "  </thead>\n",
       "  <tbody>\n",
       "    <tr>\n",
       "      <th>0</th>\n",
       "      <td>ALE</td>\n",
       "      <td>82.492</td>\n",
       "      <td>-62.508</td>\n",
       "    </tr>\n",
       "    <tr>\n",
       "      <th>1</th>\n",
       "      <td>ABZ</td>\n",
       "      <td>12.990</td>\n",
       "      <td>50.570</td>\n",
       "    </tr>\n",
       "    <tr>\n",
       "      <th>2</th>\n",
       "      <td>ASP</td>\n",
       "      <td>58.800</td>\n",
       "      <td>17.380</td>\n",
       "    </tr>\n",
       "    <tr>\n",
       "      <th>3</th>\n",
       "      <td>BOT</td>\n",
       "      <td>-25.500</td>\n",
       "      <td>25.800</td>\n",
       "    </tr>\n",
       "    <tr>\n",
       "      <th>4</th>\n",
       "      <td>BSL</td>\n",
       "      <td>53.000</td>\n",
       "      <td>7.950</td>\n",
       "    </tr>\n",
       "  </tbody>\n",
       "</table>\n",
       "</div>"
      ],
      "text/plain": [
       "  city  latitude  longitude\n",
       "0  ALE    82.492    -62.508\n",
       "1  ABZ    12.990     50.570\n",
       "2  ASP    58.800     17.380\n",
       "3  BOT   -25.500     25.800\n",
       "4  BSL    53.000      7.950"
      ]
     },
     "execution_count": 352,
     "metadata": {},
     "output_type": "execute_result"
    }
   ],
   "source": [
    "cities = pd.read_csv(cities_info)\n",
    "cities.head()"
   ]
  },
  {
   "cell_type": "code",
   "execution_count": 392,
   "metadata": {},
   "outputs": [],
   "source": [
    "i = 11\n",
    "city = cities['city'][i]\n",
    "lat = cities['latitude'][i]\n",
    "long = cities['longitude'][i]\n",
    "if long < 0: long = long + 360"
   ]
  },
  {
   "cell_type": "code",
   "execution_count": 410,
   "metadata": {},
   "outputs": [
    {
     "data": {
      "text/plain": [
       "['cat',\n",
       " 'cams-reanalysis_daily_201004.grb',\n",
       " 'cams-reanalysis_daily_201002.grb',\n",
       " 'cams-reanalysis_daily_201007.grb',\n",
       " 'cams-reanalysis_daily_201005.grb',\n",
       " 'cams-reanalysis_daily_201106.grb',\n",
       " 'cams-reanalysis_daily_201111.grb',\n",
       " 'cams-reanalysis_daily_201003.grb',\n",
       " 'cams-reanalysis_daily_201103.grb',\n",
       " 'cams-reanalysis_daily_201006.grb',\n",
       " 'cams-reanalysis_daily_201110.grb',\n",
       " 'cams-reanalysis_daily_201112.grb',\n",
       " 'cams-reanalysis_daily_201102.grb',\n",
       " 'cams-reanalysis_daily_201107.grb',\n",
       " 'cams-reanalysis_daily_201001.grb',\n",
       " 'cams-reanalysis_daily_201105.grb',\n",
       " 'cams-reanalysis_daily_201009.grb',\n",
       " 'cams-reanalysis_daily_201011.grb',\n",
       " 'cams-reanalysis_daily_201010.grb',\n",
       " 'cams-reanalysis_daily_201101.grb',\n",
       " 'cams-reanalysis_daily_201104.grb',\n",
       " 'cams-reanalysis_daily_201008.grb',\n",
       " 'cams-reanalysis_daily_201109.grb',\n",
       " 'cams-reanalysis_daily_201012.grb',\n",
       " 'cams-reanalysis_daily_201108.grb',\n",
       " '>',\n",
       " 'outfile']"
      ]
     },
     "execution_count": 410,
     "metadata": {},
     "output_type": "execute_result"
    }
   ],
   "source": [
    "files = os.listdir(raw_cams_dir + '/' + city)\n",
    "files = [f for f in files if '.idx' not in f]\n",
    "#files\n",
    "['cat'] + files + ['>', 'outfile']"
   ]
  },
  {
   "cell_type": "code",
   "execution_count": 400,
   "metadata": {},
   "outputs": [],
   "source": [
    "filename = str(os.listdir(raw_cams_dir + '/' + city)[0])"
   ]
  },
  {
   "cell_type": "code",
   "execution_count": 401,
   "metadata": {},
   "outputs": [],
   "source": [
    "ds = xr.open_dataset(raw_cams_dir + '/' + city + '/' + filename, engine='cfgrib')"
   ]
  },
  {
   "cell_type": "code",
   "execution_count": 403,
   "metadata": {},
   "outputs": [
    {
     "data": {
      "text/plain": [
       "<xarray.Dataset>\n",
       "Dimensions:     (latitude: 2, longitude: 2, time: 120)\n",
       "Coordinates:\n",
       "  * time        (time) datetime64[ns] 2010-04-01 ... 2010-04-30T18:00:00\n",
       "    step        timedelta64[ns] ...\n",
       "    hybrid      int64 ...\n",
       "  * latitude    (latitude) float64 -22.6 -23.6\n",
       "  * longitude   (longitude) float64 313.4 314.4\n",
       "    valid_time  (time) datetime64[ns] ...\n",
       "Data variables:\n",
       "    t           (time, latitude, longitude) float32 ...\n",
       "    co          (time, latitude, longitude) float32 ...\n",
       "Attributes:\n",
       "    GRIB_edition:            2\n",
       "    GRIB_centre:             ecmf\n",
       "    GRIB_centreDescription:  European Centre for Medium-Range Weather Forecasts\n",
       "    GRIB_subCentre:          0\n",
       "    Conventions:             CF-1.7\n",
       "    institution:             European Centre for Medium-Range Weather Forecasts\n",
       "    history:                 2020-02-22T10:58:16 GRIB to CDM+CF via cfgrib-0...."
      ]
     },
     "execution_count": 403,
     "metadata": {},
     "output_type": "execute_result"
    }
   ],
   "source": [
    "ds"
   ]
  },
  {
   "cell_type": "code",
   "execution_count": 366,
   "metadata": {},
   "outputs": [
    {
     "data": {
      "text/html": [
       "<div>\n",
       "<style scoped>\n",
       "    .dataframe tbody tr th:only-of-type {\n",
       "        vertical-align: middle;\n",
       "    }\n",
       "\n",
       "    .dataframe tbody tr th {\n",
       "        vertical-align: top;\n",
       "    }\n",
       "\n",
       "    .dataframe thead th {\n",
       "        text-align: right;\n",
       "    }\n",
       "</style>\n",
       "<table border=\"1\" class=\"dataframe\">\n",
       "  <thead>\n",
       "    <tr style=\"text-align: right;\">\n",
       "      <th></th>\n",
       "      <th>step</th>\n",
       "      <th>hybrid</th>\n",
       "      <th>latitude</th>\n",
       "      <th>longitude</th>\n",
       "      <th>valid_time</th>\n",
       "      <th>t</th>\n",
       "      <th>co</th>\n",
       "    </tr>\n",
       "    <tr>\n",
       "      <th>time</th>\n",
       "      <th></th>\n",
       "      <th></th>\n",
       "      <th></th>\n",
       "      <th></th>\n",
       "      <th></th>\n",
       "      <th></th>\n",
       "      <th></th>\n",
       "    </tr>\n",
       "  </thead>\n",
       "  <tbody>\n",
       "    <tr>\n",
       "      <th>2012-11-01 00:00:00</th>\n",
       "      <td>0 days</td>\n",
       "      <td>60</td>\n",
       "      <td>82.492</td>\n",
       "      <td>297.492</td>\n",
       "      <td>2012-11-01 00:00:00</td>\n",
       "      <td>249.214890</td>\n",
       "      <td>1.128494e-07</td>\n",
       "    </tr>\n",
       "    <tr>\n",
       "      <th>2012-11-01 06:00:00</th>\n",
       "      <td>0 days</td>\n",
       "      <td>60</td>\n",
       "      <td>82.492</td>\n",
       "      <td>297.492</td>\n",
       "      <td>2012-11-01 06:00:00</td>\n",
       "      <td>248.902817</td>\n",
       "      <td>1.131068e-07</td>\n",
       "    </tr>\n",
       "    <tr>\n",
       "      <th>2012-11-01 12:00:00</th>\n",
       "      <td>0 days</td>\n",
       "      <td>60</td>\n",
       "      <td>82.492</td>\n",
       "      <td>297.492</td>\n",
       "      <td>2012-11-01 12:00:00</td>\n",
       "      <td>249.146255</td>\n",
       "      <td>1.116957e-07</td>\n",
       "    </tr>\n",
       "    <tr>\n",
       "      <th>2012-11-01 18:00:00</th>\n",
       "      <td>0 days</td>\n",
       "      <td>60</td>\n",
       "      <td>82.492</td>\n",
       "      <td>297.492</td>\n",
       "      <td>2012-11-01 18:00:00</td>\n",
       "      <td>247.809570</td>\n",
       "      <td>1.106799e-07</td>\n",
       "    </tr>\n",
       "    <tr>\n",
       "      <th>2012-11-02 00:00:00</th>\n",
       "      <td>0 days</td>\n",
       "      <td>60</td>\n",
       "      <td>82.492</td>\n",
       "      <td>297.492</td>\n",
       "      <td>2012-11-02 00:00:00</td>\n",
       "      <td>248.551910</td>\n",
       "      <td>1.104830e-07</td>\n",
       "    </tr>\n",
       "  </tbody>\n",
       "</table>\n",
       "</div>"
      ],
      "text/plain": [
       "                      step  hybrid  latitude  longitude          valid_time  \\\n",
       "time                                                                          \n",
       "2012-11-01 00:00:00 0 days      60    82.492    297.492 2012-11-01 00:00:00   \n",
       "2012-11-01 06:00:00 0 days      60    82.492    297.492 2012-11-01 06:00:00   \n",
       "2012-11-01 12:00:00 0 days      60    82.492    297.492 2012-11-01 12:00:00   \n",
       "2012-11-01 18:00:00 0 days      60    82.492    297.492 2012-11-01 18:00:00   \n",
       "2012-11-02 00:00:00 0 days      60    82.492    297.492 2012-11-02 00:00:00   \n",
       "\n",
       "                              t            co  \n",
       "time                                           \n",
       "2012-11-01 00:00:00  249.214890  1.128494e-07  \n",
       "2012-11-01 06:00:00  248.902817  1.131068e-07  \n",
       "2012-11-01 12:00:00  249.146255  1.116957e-07  \n",
       "2012-11-01 18:00:00  247.809570  1.106799e-07  \n",
       "2012-11-02 00:00:00  248.551910  1.104830e-07  "
      ]
     },
     "execution_count": 366,
     "metadata": {},
     "output_type": "execute_result"
    }
   ],
   "source": [
    "df = ds.loc[dict(latitude=lat, longitude=long)].to_dataframe()\n",
    "df.head()"
   ]
  },
  {
   "cell_type": "code",
   "execution_count": 367,
   "metadata": {},
   "outputs": [
    {
     "data": {
      "text/html": [
       "<div>\n",
       "<style scoped>\n",
       "    .dataframe tbody tr th:only-of-type {\n",
       "        vertical-align: middle;\n",
       "    }\n",
       "\n",
       "    .dataframe tbody tr th {\n",
       "        vertical-align: top;\n",
       "    }\n",
       "\n",
       "    .dataframe thead th {\n",
       "        text-align: right;\n",
       "    }\n",
       "</style>\n",
       "<table border=\"1\" class=\"dataframe\">\n",
       "  <thead>\n",
       "    <tr style=\"text-align: right;\">\n",
       "      <th></th>\n",
       "      <th>hybrid</th>\n",
       "      <th>latitude</th>\n",
       "      <th>longitude</th>\n",
       "      <th>t</th>\n",
       "      <th>co</th>\n",
       "    </tr>\n",
       "  </thead>\n",
       "  <tbody>\n",
       "    <tr>\n",
       "      <th>2012-11-01</th>\n",
       "      <td>60</td>\n",
       "      <td>82.492</td>\n",
       "      <td>297.492</td>\n",
       "      <td>248.768387</td>\n",
       "      <td>1.120830e-07</td>\n",
       "    </tr>\n",
       "    <tr>\n",
       "      <th>2012-11-02</th>\n",
       "      <td>60</td>\n",
       "      <td>82.492</td>\n",
       "      <td>297.492</td>\n",
       "      <td>248.892487</td>\n",
       "      <td>1.101667e-07</td>\n",
       "    </tr>\n",
       "    <tr>\n",
       "      <th>2012-11-03</th>\n",
       "      <td>60</td>\n",
       "      <td>82.492</td>\n",
       "      <td>297.492</td>\n",
       "      <td>248.603485</td>\n",
       "      <td>1.082050e-07</td>\n",
       "    </tr>\n",
       "    <tr>\n",
       "      <th>2012-11-04</th>\n",
       "      <td>60</td>\n",
       "      <td>82.492</td>\n",
       "      <td>297.492</td>\n",
       "      <td>250.212570</td>\n",
       "      <td>1.081665e-07</td>\n",
       "    </tr>\n",
       "    <tr>\n",
       "      <th>2012-11-05</th>\n",
       "      <td>60</td>\n",
       "      <td>82.492</td>\n",
       "      <td>297.492</td>\n",
       "      <td>250.098541</td>\n",
       "      <td>1.068746e-07</td>\n",
       "    </tr>\n",
       "  </tbody>\n",
       "</table>\n",
       "</div>"
      ],
      "text/plain": [
       "            hybrid  latitude  longitude           t            co\n",
       "2012-11-01      60    82.492    297.492  248.768387  1.120830e-07\n",
       "2012-11-02      60    82.492    297.492  248.892487  1.101667e-07\n",
       "2012-11-03      60    82.492    297.492  248.603485  1.082050e-07\n",
       "2012-11-04      60    82.492    297.492  250.212570  1.081665e-07\n",
       "2012-11-05      60    82.492    297.492  250.098541  1.068746e-07"
      ]
     },
     "execution_count": 367,
     "metadata": {},
     "output_type": "execute_result"
    }
   ],
   "source": [
    "df = df.groupby(df.index.date).mean()\n",
    "df.head()"
   ]
  },
  {
   "cell_type": "code",
   "execution_count": 369,
   "metadata": {},
   "outputs": [],
   "source": [
    "df = df.drop(columns=['hybrid', 'latitude', 'longitude'])"
   ]
  },
  {
   "cell_type": "code",
   "execution_count": 370,
   "metadata": {},
   "outputs": [],
   "source": [
    "df.index.name = 'date'"
   ]
  },
  {
   "cell_type": "code",
   "execution_count": 371,
   "metadata": {},
   "outputs": [
    {
     "data": {
      "text/html": [
       "<div>\n",
       "<style scoped>\n",
       "    .dataframe tbody tr th:only-of-type {\n",
       "        vertical-align: middle;\n",
       "    }\n",
       "\n",
       "    .dataframe tbody tr th {\n",
       "        vertical-align: top;\n",
       "    }\n",
       "\n",
       "    .dataframe thead th {\n",
       "        text-align: right;\n",
       "    }\n",
       "</style>\n",
       "<table border=\"1\" class=\"dataframe\">\n",
       "  <thead>\n",
       "    <tr style=\"text-align: right;\">\n",
       "      <th></th>\n",
       "      <th>t</th>\n",
       "      <th>co</th>\n",
       "    </tr>\n",
       "    <tr>\n",
       "      <th>date</th>\n",
       "      <th></th>\n",
       "      <th></th>\n",
       "    </tr>\n",
       "  </thead>\n",
       "  <tbody>\n",
       "    <tr>\n",
       "      <th>2012-11-01</th>\n",
       "      <td>248.768387</td>\n",
       "      <td>1.120830e-07</td>\n",
       "    </tr>\n",
       "    <tr>\n",
       "      <th>2012-11-02</th>\n",
       "      <td>248.892487</td>\n",
       "      <td>1.101667e-07</td>\n",
       "    </tr>\n",
       "    <tr>\n",
       "      <th>2012-11-03</th>\n",
       "      <td>248.603485</td>\n",
       "      <td>1.082050e-07</td>\n",
       "    </tr>\n",
       "    <tr>\n",
       "      <th>2012-11-04</th>\n",
       "      <td>250.212570</td>\n",
       "      <td>1.081665e-07</td>\n",
       "    </tr>\n",
       "    <tr>\n",
       "      <th>2012-11-05</th>\n",
       "      <td>250.098541</td>\n",
       "      <td>1.068746e-07</td>\n",
       "    </tr>\n",
       "  </tbody>\n",
       "</table>\n",
       "</div>"
      ],
      "text/plain": [
       "                     t            co\n",
       "date                                \n",
       "2012-11-01  248.768387  1.120830e-07\n",
       "2012-11-02  248.892487  1.101667e-07\n",
       "2012-11-03  248.603485  1.082050e-07\n",
       "2012-11-04  250.212570  1.081665e-07\n",
       "2012-11-05  250.098541  1.068746e-07"
      ]
     },
     "execution_count": 371,
     "metadata": {},
     "output_type": "execute_result"
    }
   ],
   "source": [
    "df.head()"
   ]
  },
  {
   "cell_type": "code",
   "execution_count": 373,
   "metadata": {},
   "outputs": [
    {
     "data": {
      "text/plain": [
       "[<matplotlib.lines.Line2D at 0x7fd78c5785f8>]"
      ]
     },
     "execution_count": 373,
     "metadata": {},
     "output_type": "execute_result"
    },
    {
     "data": {
      "image/png": "[encoded data removed]",
      "text/plain": [
       "<Figure size 432x288 with 1 Axes>"
      ]
     },
     "metadata": {
      "needs_background": "light"
     },
     "output_type": "display_data"
    }
   ],
   "source": [
    "plt.plot(df['t'])"
   ]
  },
  {
   "cell_type": "code",
   "execution_count": 379,
   "metadata": {},
   "outputs": [
    {
     "data": {
      "text/plain": [
       "1"
      ]
     },
     "execution_count": 379,
     "metadata": {},
     "output_type": "execute_result"
    }
   ],
   "source": [
    "call(['rm', raw_cams_dir + '/' + city + '/', '*.idx'])"
   ]
  },
  {
   "cell_type": "code",
   "execution_count": 381,
   "metadata": {},
   "outputs": [],
   "source": [
    "import pandas as pd"
   ]
  },
  {
   "cell_type": "code",
   "execution_count": 382,
   "metadata": {},
   "outputs": [
    {
     "data": {
      "text/html": [
       "<div>\n",
       "<style scoped>\n",
       "    .dataframe tbody tr th:only-of-type {\n",
       "        vertical-align: middle;\n",
       "    }\n",
       "\n",
       "    .dataframe tbody tr th {\n",
       "        vertical-align: top;\n",
       "    }\n",
       "\n",
       "    .dataframe thead th {\n",
       "        text-align: right;\n",
       "    }\n",
       "</style>\n",
       "<table border=\"1\" class=\"dataframe\">\n",
       "  <thead>\n",
       "    <tr style=\"text-align: right;\">\n",
       "      <th></th>\n",
       "      <th>city</th>\n",
       "      <th>laitude</th>\n",
       "      <th>longitude</th>\n",
       "    </tr>\n",
       "  </thead>\n",
       "  <tbody>\n",
       "    <tr>\n",
       "      <th>0</th>\n",
       "      <td>ALE</td>\n",
       "      <td>82.492,</td>\n",
       "      <td>-62.508,</td>\n",
       "    </tr>\n",
       "    <tr>\n",
       "      <th>1</th>\n",
       "      <td>ABZ</td>\n",
       "      <td>12.99,</td>\n",
       "      <td>50.57,</td>\n",
       "    </tr>\n",
       "    <tr>\n",
       "      <th>2</th>\n",
       "      <td>ASP</td>\n",
       "      <td>58.80,</td>\n",
       "      <td>17.38,</td>\n",
       "    </tr>\n",
       "    <tr>\n",
       "      <th>3</th>\n",
       "      <td>BOT</td>\n",
       "      <td>-25.5,</td>\n",
       "      <td>25.8,</td>\n",
       "    </tr>\n",
       "    <tr>\n",
       "      <th>4</th>\n",
       "      <td>BSL</td>\n",
       "      <td>53.00,</td>\n",
       "      <td>7.95,</td>\n",
       "    </tr>\n",
       "  </tbody>\n",
       "</table>\n",
       "</div>"
      ],
      "text/plain": [
       "  city  laitude longitude\n",
       "0  ALE  82.492,  -62.508,\n",
       "1  ABZ   12.99,    50.57,\n",
       "2  ASP   58.80,    17.38,\n",
       "3  BOT   -25.5,     25.8,\n",
       "4  BSL   53.00,     7.95,"
      ]
     },
     "execution_count": 382,
     "metadata": {},
     "output_type": "execute_result"
    }
   ],
   "source": [
    "info = []\n",
    "with open('../raw/n100/Measurementsites_info.txt', 'r') as f:\n",
    "    for line in f:\n",
    "        if '%' in line:\n",
    "            continue\n",
    "        line = line.split()[:4]\n",
    "        info.append(dict(city=line[3], laitude=line[0], longitude=line[1]))\n",
    "pd.DataFrame(info).head()"
   ]
  },
  {
   "cell_type": "code",
   "execution_count": 383,
   "metadata": {},
   "outputs": [],
   "source": [
    "df = pd.read_csv('../data/n100' + '/' + 'HYY' + '_N100.csv')"
   ]
  },
  {
   "cell_type": "code",
   "execution_count": 384,
   "metadata": {},
   "outputs": [
    {
     "name": "stdout",
     "output_type": "stream",
     "text": [
      "2003\n",
      "2019\n"
     ]
    }
   ],
   "source": [
    "print(min(df['date'])[:4])\n",
    "print(max(df['date'])[:4])"
   ]
  }
 ],
 "metadata": {
  "kernelspec": {
   "display_name": "Python 3",
   "language": "python",
   "name": "python3"
  },
  "language_info": {
   "codemirror_mode": {
    "name": "ipython",
    "version": 3
   },
   "file_extension": ".py",
   "mimetype": "text/x-python",
   "name": "python",
   "nbconvert_exporter": "python",
   "pygments_lexer": "ipython3",
   "version": "3.7.6"
  }
 },
 "nbformat": 4,
 "nbformat_minor": 4
}
