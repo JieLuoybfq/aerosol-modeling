{
 "cells": [
  {
   "cell_type": "code",
   "execution_count": 21,
   "metadata": {},
   "outputs": [],
   "source": [
    "import os\n",
    "import yaml\n",
    "import pandas as pd\n",
    "import matplotlib.pyplot as plt"
   ]
  },
  {
   "cell_type": "markdown",
   "metadata": {},
   "source": [
    "Initiate directories:"
   ]
  },
  {
   "cell_type": "code",
   "execution_count": 12,
   "metadata": {},
   "outputs": [],
   "source": [
    "ROOT_DIR = os.getcwd() + '/../'\n",
    "try:\n",
    "    with open (ROOT_DIR + '/configuration.yml', 'r') as file:\n",
    "        config = yaml.safe_load(file)\n",
    "except Exception as e:\n",
    "    print('Error reading the config file')\n",
    "DATA_DIR = ROOT_DIR + config['data']['final'] + '/'\n",
    "cities = pd.read_csv(ROOT_DIR + config['cities'])"
   ]
  },
  {
   "cell_type": "markdown",
   "metadata": {},
   "source": [
    "Cities information, eg. to loop over city names:"
   ]
  },
  {
   "cell_type": "code",
   "execution_count": 13,
   "metadata": {},
   "outputs": [
    {
     "data": {
      "text/html": [
       "<div>\n",
       "<style scoped>\n",
       "    .dataframe tbody tr th:only-of-type {\n",
       "        vertical-align: middle;\n",
       "    }\n",
       "\n",
       "    .dataframe tbody tr th {\n",
       "        vertical-align: top;\n",
       "    }\n",
       "\n",
       "    .dataframe thead th {\n",
       "        text-align: right;\n",
       "    }\n",
       "</style>\n",
       "<table border=\"1\" class=\"dataframe\">\n",
       "  <thead>\n",
       "    <tr style=\"text-align: right;\">\n",
       "      <th></th>\n",
       "      <th>city</th>\n",
       "      <th>latitude</th>\n",
       "      <th>longitude</th>\n",
       "    </tr>\n",
       "  </thead>\n",
       "  <tbody>\n",
       "    <tr>\n",
       "      <th>0</th>\n",
       "      <td>ALE</td>\n",
       "      <td>82.492</td>\n",
       "      <td>-62.508</td>\n",
       "    </tr>\n",
       "    <tr>\n",
       "      <th>1</th>\n",
       "      <td>ABZ</td>\n",
       "      <td>12.990</td>\n",
       "      <td>50.570</td>\n",
       "    </tr>\n",
       "    <tr>\n",
       "      <th>2</th>\n",
       "      <td>ASP</td>\n",
       "      <td>58.800</td>\n",
       "      <td>17.380</td>\n",
       "    </tr>\n",
       "    <tr>\n",
       "      <th>3</th>\n",
       "      <td>BOT</td>\n",
       "      <td>-25.500</td>\n",
       "      <td>25.800</td>\n",
       "    </tr>\n",
       "    <tr>\n",
       "      <th>4</th>\n",
       "      <td>BSL</td>\n",
       "      <td>53.000</td>\n",
       "      <td>7.950</td>\n",
       "    </tr>\n",
       "    <tr>\n",
       "      <th>5</th>\n",
       "      <td>EGB</td>\n",
       "      <td>44.200</td>\n",
       "      <td>-79.800</td>\n",
       "    </tr>\n",
       "    <tr>\n",
       "      <th>6</th>\n",
       "      <td>HEL</td>\n",
       "      <td>60.200</td>\n",
       "      <td>24.960</td>\n",
       "    </tr>\n",
       "  </tbody>\n",
       "</table>\n",
       "</div>"
      ],
      "text/plain": [
       "  city  latitude  longitude\n",
       "0  ALE    82.492    -62.508\n",
       "1  ABZ    12.990     50.570\n",
       "2  ASP    58.800     17.380\n",
       "3  BOT   -25.500     25.800\n",
       "4  BSL    53.000      7.950\n",
       "5  EGB    44.200    -79.800\n",
       "6  HEL    60.200     24.960"
      ]
     },
     "execution_count": 13,
     "metadata": {},
     "output_type": "execute_result"
    }
   ],
   "source": [
    "cities[:7]"
   ]
  },
  {
   "cell_type": "code",
   "execution_count": 18,
   "metadata": {},
   "outputs": [],
   "source": [
    "city = cities['city'][6]"
   ]
  },
  {
   "cell_type": "markdown",
   "metadata": {},
   "source": [
    "Open data file:"
   ]
  },
  {
   "cell_type": "code",
   "execution_count": 19,
   "metadata": {},
   "outputs": [],
   "source": [
    "df = pd.read_csv(DATA_DIR + city + '.csv', index_col='date')"
   ]
  },
  {
   "cell_type": "code",
   "execution_count": 20,
   "metadata": {},
   "outputs": [
    {
     "data": {
      "text/html": [
       "<div>\n",
       "<style scoped>\n",
       "    .dataframe tbody tr th:only-of-type {\n",
       "        vertical-align: middle;\n",
       "    }\n",
       "\n",
       "    .dataframe tbody tr th {\n",
       "        vertical-align: top;\n",
       "    }\n",
       "\n",
       "    .dataframe thead th {\n",
       "        text-align: right;\n",
       "    }\n",
       "</style>\n",
       "<table border=\"1\" class=\"dataframe\">\n",
       "  <thead>\n",
       "    <tr style=\"text-align: right;\">\n",
       "      <th></th>\n",
       "      <th>concentration</th>\n",
       "      <th>t</th>\n",
       "      <th>co</th>\n",
       "    </tr>\n",
       "    <tr>\n",
       "      <th>date</th>\n",
       "      <th></th>\n",
       "      <th></th>\n",
       "      <th></th>\n",
       "    </tr>\n",
       "  </thead>\n",
       "  <tbody>\n",
       "    <tr>\n",
       "      <th>2005-01-01</th>\n",
       "      <td>745.769167</td>\n",
       "      <td>271.50780</td>\n",
       "      <td>1.924972e-07</td>\n",
       "    </tr>\n",
       "    <tr>\n",
       "      <th>2005-01-02</th>\n",
       "      <td>374.991806</td>\n",
       "      <td>272.57120</td>\n",
       "      <td>1.903695e-07</td>\n",
       "    </tr>\n",
       "    <tr>\n",
       "      <th>2005-01-03</th>\n",
       "      <td>265.290294</td>\n",
       "      <td>272.60297</td>\n",
       "      <td>1.779340e-07</td>\n",
       "    </tr>\n",
       "    <tr>\n",
       "      <th>2005-01-04</th>\n",
       "      <td>304.682014</td>\n",
       "      <td>270.91785</td>\n",
       "      <td>2.032431e-07</td>\n",
       "    </tr>\n",
       "    <tr>\n",
       "      <th>2005-01-05</th>\n",
       "      <td>409.387986</td>\n",
       "      <td>272.37310</td>\n",
       "      <td>2.047700e-07</td>\n",
       "    </tr>\n",
       "  </tbody>\n",
       "</table>\n",
       "</div>"
      ],
      "text/plain": [
       "            concentration          t            co\n",
       "date                                              \n",
       "2005-01-01     745.769167  271.50780  1.924972e-07\n",
       "2005-01-02     374.991806  272.57120  1.903695e-07\n",
       "2005-01-03     265.290294  272.60297  1.779340e-07\n",
       "2005-01-04     304.682014  270.91785  2.032431e-07\n",
       "2005-01-05     409.387986  272.37310  2.047700e-07"
      ]
     },
     "execution_count": 20,
     "metadata": {},
     "output_type": "execute_result"
    }
   ],
   "source": [
    "df.head()"
   ]
  },
  {
   "cell_type": "code",
   "execution_count": 26,
   "metadata": {},
   "outputs": [
    {
     "data": {
      "image/png": "[encoded data removed]",
      "text/plain": [
       "<Figure size 432x288 with 1 Axes>"
      ]
     },
     "metadata": {
      "needs_background": "light"
     },
     "output_type": "display_data"
    }
   ],
   "source": [
    "plt.plot(df.index[:50], df['t'][:50])\n",
    "plt.title('Temperature in ' + city)\n",
    "plt.show()"
   ]
  }
 ],
 "metadata": {
  "kernelspec": {
   "display_name": "Python 3",
   "language": "python",
   "name": "python3"
  },
  "language_info": {
   "codemirror_mode": {
    "name": "ipython",
    "version": 3
   },
   "file_extension": ".py",
   "mimetype": "text/x-python",
   "name": "python",
   "nbconvert_exporter": "python",
   "pygments_lexer": "ipython3",
   "version": "3.5.6"
  }
 },
 "nbformat": 4,
 "nbformat_minor": 4
}
