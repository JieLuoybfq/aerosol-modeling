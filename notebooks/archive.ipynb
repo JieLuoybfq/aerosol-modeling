{
 "cells": [
  {
   "cell_type": "markdown",
   "metadata": {},
   "source": [
    "# Archived code\n",
    "This notebook contains code for variables that I removed from the model.\n",
    "\n",
    "## Previous Week Averages\n",
    "Note: in add_pwa first pwa columns are removed twice when calculating pwa for t and co"
   ]
  },
  {
   "cell_type": "code",
   "execution_count": null,
   "metadata": {},
   "outputs": [],
   "source": [
    "\n",
    "# function for calculating the pwa of a column (excludes the day measured in the t and co columns)\n",
    "def calc_pwa(data, col, pwa):\n",
    "    pwa_data = pd.DataFrame()\n",
    "    \n",
    "    # shifting the data for the number of days and creating a new column for each day\n",
    "    for i in range(1, pwa+1):\n",
    "        pwa_data[col + '_' + str(i)] = data.shift(i)[col]\n",
    "    \n",
    "    # saving the row means as a new x_pwa column in the original dataframe\n",
    "    data[col + '_pwa'] = pwa_data.aggregate(np.mean, axis=1)\n",
    "    \n",
    "    return data\n",
    "\n",
    "\n",
    "# interface that makes calls to add_pwa depending on whether only one or all cities are used\n",
    "def add_pwa(data, col, pwa):\n",
    "    if use_all_cities:\n",
    "        # creating a unique id for every row\n",
    "        data['id'] = data.city + data.index\n",
    "\n",
    "        data_pwa = []\n",
    "        names_pwa = []\n",
    "        \n",
    "        # iterating over all cities\n",
    "        for city in unique_cities:\n",
    "            subset = data.loc[data.city == city].copy()           \n",
    "            subset = calc_pwa(subset, col, pwa)\n",
    "            \n",
    "            # saving the pwa values and rows ids for the current city\n",
    "            data_pwa.extend(subset[col+'_pwa'].iloc[pwa:])\n",
    "            names_pwa.extend(subset.id[pwa:])\n",
    "        \n",
    "        # joining the data from each city with the original dataframe and removing the unique ids\n",
    "        data_pwa = pd.Series(data_pwa, index=names_pwa, name=col+'_pwa')\n",
    "        data = data.join(data_pwa, how='inner', on='id')\n",
    "        data.drop(columns='id', inplace=True)\n",
    "    else:\n",
    "        data = calc_pwa(data, col, pwa)\n",
    "        data = data[pwa:]\n",
    "    \n",
    "    return data"
   ]
  },
  {
   "cell_type": "markdown",
   "metadata": {},
   "source": [
    "## Temperature experiments"
   ]
  },
  {
   "cell_type": "code",
   "execution_count": null,
   "metadata": {},
   "outputs": [],
   "source": [
    "counts, values = np.histogram(df_comb.t, bins=100)\n",
    "values = values[:-1] + ((values[1:] - values[:-1])/2)\n",
    "values = values.astype('float64')\n",
    "\n",
    "y = np.array(pd.Series(counts).rolling(window=7).mean())\n",
    "    \n",
    "maxima = find_peaks(y)[0]\n",
    "minima = argrelmin(y)[0]\n",
    "\n",
    "plt.plot(values, counts)\n",
    "plt.plot(values, y, c='orange', alpha=0.75)\n",
    "\n",
    "for maximum in maxima:\n",
    "    plt.plot(np.repeat(values[maximum], 2), np.array([0, y[maximum]]))\n",
    "    \n",
    "for minimum in minima:\n",
    "    plt.plot(np.repeat(values[minimum], 2), np.array([0, y[minimum]]))\n",
    "    \n",
    "t_split = values[maxima][0]\n",
    "print('Splitting on:', t_split)\n",
    "\n",
    "t_split_mask = df_comb.t > t_split\n",
    "\n",
    "df_high_t = df.loc[t_split_mask]\n",
    "df_comb_high_t = df_comb.loc[t_split_mask]\n",
    "dates_high_t = dates.loc[t_split_mask]\n",
    "\n",
    "print('Using', df_comb_high_t.shape[0], 'out of', df_comb.shape[0], 'data points', '(',\n",
    "      np.round(100*df_comb_high_t.shape[0]/df_comb.shape[0], 2), '% )\\n')\n",
    "\n",
    "y_train, y_test, log_y_test, X_train, X_test, dates_test = split_data(df_high_t, df_comb_high_t, dates_high_t)"
   ]
  }
 ],
 "metadata": {
  "kernelspec": {
   "display_name": "Python 3",
   "language": "python",
   "name": "python3"
  },
  "language_info": {
   "codemirror_mode": {
    "name": "ipython",
    "version": 3
   },
   "file_extension": ".py",
   "mimetype": "text/x-python",
   "name": "python",
   "nbconvert_exporter": "python",
   "pygments_lexer": "ipython3",
   "version": "3.6.8"
  }
 },
 "nbformat": 4,
 "nbformat_minor": 2
}
